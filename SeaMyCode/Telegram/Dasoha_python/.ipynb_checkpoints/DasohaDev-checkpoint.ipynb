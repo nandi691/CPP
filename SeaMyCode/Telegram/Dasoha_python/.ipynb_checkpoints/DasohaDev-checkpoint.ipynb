{
 "cells": [
  {
   "cell_type": "markdown",
   "id": "c03f5a84-98a9-4359-879c-df353b883572",
   "metadata": {},
   "source": [
    "# Python code for dasoha management"
   ]
  },
  {
   "cell_type": "markdown",
   "id": "c0296fb0-c7c6-45da-955a-82cd6633b461",
   "metadata": {},
   "source": [
    "<br>Before I start with dasoha management, let me explore some core modules like \n",
    "<ol>\n",
    "    <li>Handling Bot commands</li>\n",
    "    <li>Send Email</li>\n",
    "    <li>Get calendar widget or display in telegram and choose a date</li>\n",
    "    <li>Design Payment mechanism</li>\n",
    "</ol>"
   ]
  },
  {
   "cell_type": "markdown",
   "id": "aa6a36cd-3791-456c-89e5-6bc83e81f3df",
   "metadata": {},
   "source": [
    "<br>Steps to get APIs\n",
    "<ol>\n",
    "    <li>Login to <a href=\"https://my.telegram.org\">My Telegram</a></li>\n",
    "    <li>Note down API ID and API HASH</li>\n",
    "</ol>\n",
    "\n",
    "For more detailed tutorial click <a href=\"https://www.geeksforgeeks.org/send-message-to-telegram-user-using-python/\">here</a>"
   ]
  },
  {
   "cell_type": "markdown",
   "id": "575c39d9-dff8-46a3-bcb9-c124919d3478",
   "metadata": {},
   "source": [
    "Packages required to install telegram bot\n",
    "<br>python-telegram\n",
    "<br>https://github.com/eternnoir/pyTelegramBotAPI"
   ]
  },
  {
   "cell_type": "markdown",
   "id": "af2c46b7-da19-4122-8f9f-a15345ca1a27",
   "metadata": {},
   "source": [
    "# Handling Bot commands"
   ]
  },
  {
   "cell_type": "code",
   "execution_count": null,
   "id": "36177380-02e4-41ff-8e3a-c11f19f554a7",
   "metadata": {},
   "outputs": [],
   "source": [
    "import time\n",
    "\n",
    "import telebot\n",
    "from telebot import types\n",
    "from telegram_bot_calendar import DetailedTelegramCalendar, LSTEP # For Calendar view\n",
    "\n",
    "TOKEN = '5264603873:AAE14nw6biq8PQPGvG8Wu_Sr_q-BngUP3aM' #Bot Token taken from Telegram BotFather\n",
    "\n",
    "commands = {  # command description used in the \"help\" command\n",
    "    'phone': 'Give me phone number',\n",
    "    'email'        : 'Give me email ID',\n",
    "    'name': 'Let me tell my name',\n",
    "    'address'    : 'Let me show my address',\n",
    "    'date':'Select a date'\n",
    "}\n",
    "bot = telebot.TeleBot(TOKEN)\n",
    "\n",
    "def PrintHelp():\n",
    "    mystr = \"\"\n",
    "    for k,v in commands.items():\n",
    "        mystr = mystr+\"/\"+k + \" : \" +v+\"\\n\";\n",
    "\n",
    "    return mystr\n",
    "\n",
    "@bot.message_handler(commands=['phone'])\n",
    "def command_start(m):\n",
    "    cid = m.chat.id\n",
    "    bot.send_message(cid, \"9449409526\")\n",
    "    bot.send_message(m.chat.id, PrintHelp())\n",
    "\n",
    "\n",
    "@bot.message_handler(commands=['email'])\n",
    "def command_start(m):\n",
    "    cid = m.chat.id\n",
    "    bot.send_message(cid, \"nandeesh@nksystech.com\")\n",
    "    bot.send_message(m.chat.id, PrintHelp())\n",
    "\n",
    "@bot.message_handler(commands=['name'])\n",
    "def command_start(m):\n",
    "    cid = m.chat.id\n",
    "    bot.send_message(cid, \"Nandeesh\")\n",
    "    bot.send_message(m.chat.id, PrintHelp())\n",
    "\n",
    "@bot.message_handler(commands=['address'])\n",
    "def command_start(m):\n",
    "    cid = m.chat.id\n",
    "    bot.send_message(cid, \"Flat No 004, SV Aralia , Belathur\")\n",
    "    bot.send_message(m.chat.id, PrintHelp())\n",
    "\n",
    "\n",
    "@bot.message_handler(commands=['date'])\n",
    "def start(m):\n",
    "    calendar, step = DetailedTelegramCalendar().build()\n",
    "    bot.send_message(m.chat.id,\n",
    "                     f\"Select {LSTEP[step]}\",\n",
    "                     reply_markup=calendar)\n",
    "    bot.send_message(m.chat.id, PrintHelp())\n",
    "\n",
    "\n",
    "@bot.callback_query_handler(func=DetailedTelegramCalendar.func())\n",
    "def cal(c):\n",
    "    result, key, step = DetailedTelegramCalendar().process(c.data)\n",
    "    if not result and key:\n",
    "        bot.edit_message_text(f\"Select {LSTEP[step]}\",\n",
    "                              c.message.chat.id,\n",
    "                              c.message.message_id,\n",
    "                              reply_markup=key)\n",
    "    elif result:\n",
    "        if(result < time.time()\n",
    "        bot.edit_message_text(f\"You selected {result}\",\n",
    "                              c.message.chat.id,\n",
    "                              c.message.message_id)\n",
    "@bot.message_handler(func=lambda message: True, content_types=['text'])\n",
    "def command_default(m):\n",
    "    # this is the standard reply to a normal message\n",
    "    bot.send_message(m.chat.id, PrintHelp())\n",
    "bot.infinity_polling()"
   ]
  },
  {
   "cell_type": "markdown",
   "id": "5586b4d8-e573-40ca-bcae-1dd736608cf2",
   "metadata": {},
   "source": [
    "# Send Email"
   ]
  },
  {
   "cell_type": "code",
   "execution_count": 1,
   "id": "a66ff4dc-da6c-4e3c-9839-357acc464e51",
   "metadata": {},
   "outputs": [
    {
     "data": {
      "text/plain": [
       "(221, b'2.0.0 Bye')"
      ]
     },
     "execution_count": 1,
     "metadata": {},
     "output_type": "execute_result"
    }
   ],
   "source": [
    "import smtplib\n",
    "from email.mime.multipart import MIMEMultipart\n",
    "from email.mime.text import MIMEText\n",
    "from email.mime.base import MIMEBase\n",
    "from email import encoders\n",
    "\n",
    "fromaddr = \"kiosk@nandeeshsb.online\"\n",
    "toaddr = ['nandeesh.0691@gmail.com','nandeesh.bilagi@gmail.com','nbilagi@gmail.com']\n",
    "password = \"Nlogin@123\"\n",
    "\n",
    "msg = MIMEMultipart()\n",
    "\n",
    "msg['From'] = fromaddr\n",
    "msg['To'] = ''\n",
    "msg['Subject'] = \"Updated NoteBook\"\n",
    "\n",
    "body = \"Sent from Jupyter Notebook\"\n",
    "\n",
    "msg.attach(MIMEText(body, 'plain'))\n",
    "\n",
    "filename = \"DasohaDev.ipynb\"\n",
    "attachment = open(filename, \"rb\")\n",
    "\n",
    "part = MIMEBase('application', 'octet-stream')\n",
    "part.set_payload((attachment).read())\n",
    "encoders.encode_base64(part)\n",
    "part.add_header('Content-Disposition', \"attachment; filename= %s\" % filename)\n",
    "\n",
    "msg.attach(part)\n",
    "\n",
    "server = smtplib.SMTP('smtp.hostinger.com', 587)\n",
    "server.starttls()\n",
    "server.login(fromaddr, password)\n",
    "text = msg.as_string()\n",
    "server.sendmail(fromaddr, toaddr, text)\n",
    "server.quit()"
   ]
  },
  {
   "cell_type": "markdown",
   "id": "d90572a8-9935-4512-942c-86dd6939272b",
   "metadata": {},
   "source": [
    "# Get calendar widget or display in telegram and choose a date"
   ]
  },
  {
   "cell_type": "code",
   "execution_count": null,
   "id": "4c19507c-5406-4f4b-ab2f-5baaab9bc523",
   "metadata": {},
   "outputs": [],
   "source": [
    "# Refer handling bot commands"
   ]
  },
  {
   "cell_type": "markdown",
   "id": "4018463b-5de6-49bb-a175-eb0845ccae7a",
   "metadata": {},
   "source": [
    "# Get payment confirmation"
   ]
  },
  {
   "cell_type": "code",
   "execution_count": 1,
   "id": "ddbb256a-84fa-4f18-a99c-4014b2dfcde0",
   "metadata": {},
   "outputs": [
    {
     "name": "stdout",
     "output_type": "stream",
     "text": [
      "Thu, 17 Aug 2023 19:24:35 +0530 b'Received \\xe2\\x82\\xb9 7 from nandeesh@upi' b'PhonePe'\n"
     ]
    },
    {
     "ename": "KeyboardInterrupt",
     "evalue": "",
     "output_type": "error",
     "traceback": [
      "\u001b[0;31m---------------------------------------------------------------------------\u001b[0m",
      "\u001b[0;31mKeyboardInterrupt\u001b[0m                         Traceback (most recent call last)",
      "Cell \u001b[0;32mIn[1], line 13\u001b[0m\n\u001b[1;32m     11\u001b[0m status, messages \u001b[38;5;241m=\u001b[39m imap\u001b[38;5;241m.\u001b[39mselect(\u001b[38;5;124m\"\u001b[39m\u001b[38;5;124mInbox\u001b[39m\u001b[38;5;124m\"\u001b[39m)\n\u001b[1;32m     12\u001b[0m messages \u001b[38;5;241m=\u001b[39m \u001b[38;5;28mint\u001b[39m(messages[\u001b[38;5;241m0\u001b[39m])\n\u001b[0;32m---> 13\u001b[0m res, msg \u001b[38;5;241m=\u001b[39m \u001b[43mimap\u001b[49m\u001b[38;5;241;43m.\u001b[39;49m\u001b[43mfetch\u001b[49m\u001b[43m(\u001b[49m\u001b[38;5;28;43mstr\u001b[39;49m\u001b[43m(\u001b[49m\u001b[43mmessages\u001b[49m\u001b[43m)\u001b[49m\u001b[43m,\u001b[49m\u001b[43m \u001b[49m\u001b[38;5;124;43m\"\u001b[39;49m\u001b[38;5;124;43m(RFC822)\u001b[39;49m\u001b[38;5;124;43m\"\u001b[39;49m\u001b[43m)\u001b[49m\n\u001b[1;32m     15\u001b[0m \u001b[38;5;28;01mfor\u001b[39;00m response \u001b[38;5;129;01min\u001b[39;00m msg:\n\u001b[1;32m     16\u001b[0m     \u001b[38;5;28;01mif\u001b[39;00m \u001b[38;5;28misinstance\u001b[39m(response,\u001b[38;5;28mtuple\u001b[39m):\n",
      "File \u001b[0;32m/usr/lib64/python3.9/imaplib.py:548\u001b[0m, in \u001b[0;36mIMAP4.fetch\u001b[0;34m(self, message_set, message_parts)\u001b[0m\n\u001b[1;32m    538\u001b[0m \u001b[38;5;250m\u001b[39m\u001b[38;5;124;03m\"\"\"Fetch (parts of) messages.\u001b[39;00m\n\u001b[1;32m    539\u001b[0m \n\u001b[1;32m    540\u001b[0m \u001b[38;5;124;03m(typ, [data, ...]) = <instance>.fetch(message_set, message_parts)\u001b[39;00m\n\u001b[0;32m   (...)\u001b[0m\n\u001b[1;32m    545\u001b[0m \u001b[38;5;124;03m'data' are tuples of message part envelope and data.\u001b[39;00m\n\u001b[1;32m    546\u001b[0m \u001b[38;5;124;03m\"\"\"\u001b[39;00m\n\u001b[1;32m    547\u001b[0m name \u001b[38;5;241m=\u001b[39m \u001b[38;5;124m'\u001b[39m\u001b[38;5;124mFETCH\u001b[39m\u001b[38;5;124m'\u001b[39m\n\u001b[0;32m--> 548\u001b[0m typ, dat \u001b[38;5;241m=\u001b[39m \u001b[38;5;28;43mself\u001b[39;49m\u001b[38;5;241;43m.\u001b[39;49m\u001b[43m_simple_command\u001b[49m\u001b[43m(\u001b[49m\u001b[43mname\u001b[49m\u001b[43m,\u001b[49m\u001b[43m \u001b[49m\u001b[43mmessage_set\u001b[49m\u001b[43m,\u001b[49m\u001b[43m \u001b[49m\u001b[43mmessage_parts\u001b[49m\u001b[43m)\u001b[49m\n\u001b[1;32m    549\u001b[0m \u001b[38;5;28;01mreturn\u001b[39;00m \u001b[38;5;28mself\u001b[39m\u001b[38;5;241m.\u001b[39m_untagged_response(typ, dat, name)\n",
      "File \u001b[0;32m/usr/lib64/python3.9/imaplib.py:1230\u001b[0m, in \u001b[0;36mIMAP4._simple_command\u001b[0;34m(self, name, *args)\u001b[0m\n\u001b[1;32m   1228\u001b[0m \u001b[38;5;28;01mdef\u001b[39;00m \u001b[38;5;21m_simple_command\u001b[39m(\u001b[38;5;28mself\u001b[39m, name, \u001b[38;5;241m*\u001b[39margs):\n\u001b[0;32m-> 1230\u001b[0m     \u001b[38;5;28;01mreturn\u001b[39;00m \u001b[38;5;28;43mself\u001b[39;49m\u001b[38;5;241;43m.\u001b[39;49m\u001b[43m_command_complete\u001b[49m\u001b[43m(\u001b[49m\u001b[43mname\u001b[49m\u001b[43m,\u001b[49m\u001b[43m \u001b[49m\u001b[38;5;28;43mself\u001b[39;49m\u001b[38;5;241;43m.\u001b[39;49m\u001b[43m_command\u001b[49m\u001b[43m(\u001b[49m\u001b[43mname\u001b[49m\u001b[43m,\u001b[49m\u001b[43m \u001b[49m\u001b[38;5;241;43m*\u001b[39;49m\u001b[43margs\u001b[49m\u001b[43m)\u001b[49m\u001b[43m)\u001b[49m\n",
      "File \u001b[0;32m/usr/lib64/python3.9/imaplib.py:1047\u001b[0m, in \u001b[0;36mIMAP4._command_complete\u001b[0;34m(self, name, tag)\u001b[0m\n\u001b[1;32m   1045\u001b[0m     \u001b[38;5;28mself\u001b[39m\u001b[38;5;241m.\u001b[39m_check_bye()\n\u001b[1;32m   1046\u001b[0m \u001b[38;5;28;01mtry\u001b[39;00m:\n\u001b[0;32m-> 1047\u001b[0m     typ, data \u001b[38;5;241m=\u001b[39m \u001b[38;5;28;43mself\u001b[39;49m\u001b[38;5;241;43m.\u001b[39;49m\u001b[43m_get_tagged_response\u001b[49m\u001b[43m(\u001b[49m\u001b[43mtag\u001b[49m\u001b[43m,\u001b[49m\u001b[43m \u001b[49m\u001b[43mexpect_bye\u001b[49m\u001b[38;5;241;43m=\u001b[39;49m\u001b[43mlogout\u001b[49m\u001b[43m)\u001b[49m\n\u001b[1;32m   1048\u001b[0m \u001b[38;5;28;01mexcept\u001b[39;00m \u001b[38;5;28mself\u001b[39m\u001b[38;5;241m.\u001b[39mabort \u001b[38;5;28;01mas\u001b[39;00m val:\n\u001b[1;32m   1049\u001b[0m     \u001b[38;5;28;01mraise\u001b[39;00m \u001b[38;5;28mself\u001b[39m\u001b[38;5;241m.\u001b[39mabort(\u001b[38;5;124m'\u001b[39m\u001b[38;5;124mcommand: \u001b[39m\u001b[38;5;132;01m%s\u001b[39;00m\u001b[38;5;124m => \u001b[39m\u001b[38;5;132;01m%s\u001b[39;00m\u001b[38;5;124m'\u001b[39m \u001b[38;5;241m%\u001b[39m (name, val))\n",
      "File \u001b[0;32m/usr/lib64/python3.9/imaplib.py:1173\u001b[0m, in \u001b[0;36mIMAP4._get_tagged_response\u001b[0;34m(self, tag, expect_bye)\u001b[0m\n\u001b[1;32m   1167\u001b[0m \u001b[38;5;66;03m# Some have reported \"unexpected response\" exceptions.\u001b[39;00m\n\u001b[1;32m   1168\u001b[0m \u001b[38;5;66;03m# Note that ignoring them here causes loops.\u001b[39;00m\n\u001b[1;32m   1169\u001b[0m \u001b[38;5;66;03m# Instead, send me details of the unexpected response and\u001b[39;00m\n\u001b[1;32m   1170\u001b[0m \u001b[38;5;66;03m# I'll update the code in `_get_response()'.\u001b[39;00m\n\u001b[1;32m   1172\u001b[0m \u001b[38;5;28;01mtry\u001b[39;00m:\n\u001b[0;32m-> 1173\u001b[0m     \u001b[38;5;28;43mself\u001b[39;49m\u001b[38;5;241;43m.\u001b[39;49m\u001b[43m_get_response\u001b[49m\u001b[43m(\u001b[49m\u001b[43m)\u001b[49m\n\u001b[1;32m   1174\u001b[0m \u001b[38;5;28;01mexcept\u001b[39;00m \u001b[38;5;28mself\u001b[39m\u001b[38;5;241m.\u001b[39mabort \u001b[38;5;28;01mas\u001b[39;00m val:\n\u001b[1;32m   1175\u001b[0m     \u001b[38;5;28;01mif\u001b[39;00m __debug__:\n",
      "File \u001b[0;32m/usr/lib64/python3.9/imaplib.py:1075\u001b[0m, in \u001b[0;36mIMAP4._get_response\u001b[0;34m(self)\u001b[0m\n\u001b[1;32m   1068\u001b[0m \u001b[38;5;28;01mdef\u001b[39;00m \u001b[38;5;21m_get_response\u001b[39m(\u001b[38;5;28mself\u001b[39m):\n\u001b[1;32m   1069\u001b[0m \n\u001b[1;32m   1070\u001b[0m     \u001b[38;5;66;03m# Read response and store.\u001b[39;00m\n\u001b[1;32m   1071\u001b[0m     \u001b[38;5;66;03m#\u001b[39;00m\n\u001b[1;32m   1072\u001b[0m     \u001b[38;5;66;03m# Returns None for continuation responses,\u001b[39;00m\n\u001b[1;32m   1073\u001b[0m     \u001b[38;5;66;03m# otherwise first response line received.\u001b[39;00m\n\u001b[0;32m-> 1075\u001b[0m     resp \u001b[38;5;241m=\u001b[39m \u001b[38;5;28;43mself\u001b[39;49m\u001b[38;5;241;43m.\u001b[39;49m\u001b[43m_get_line\u001b[49m\u001b[43m(\u001b[49m\u001b[43m)\u001b[49m\n\u001b[1;32m   1077\u001b[0m     \u001b[38;5;66;03m# Command completion response?\u001b[39;00m\n\u001b[1;32m   1079\u001b[0m     \u001b[38;5;28;01mif\u001b[39;00m \u001b[38;5;28mself\u001b[39m\u001b[38;5;241m.\u001b[39m_match(\u001b[38;5;28mself\u001b[39m\u001b[38;5;241m.\u001b[39mtagre, resp):\n",
      "File \u001b[0;32m/usr/lib64/python3.9/imaplib.py:1183\u001b[0m, in \u001b[0;36mIMAP4._get_line\u001b[0;34m(self)\u001b[0m\n\u001b[1;32m   1181\u001b[0m \u001b[38;5;28;01mdef\u001b[39;00m \u001b[38;5;21m_get_line\u001b[39m(\u001b[38;5;28mself\u001b[39m):\n\u001b[0;32m-> 1183\u001b[0m     line \u001b[38;5;241m=\u001b[39m \u001b[38;5;28;43mself\u001b[39;49m\u001b[38;5;241;43m.\u001b[39;49m\u001b[43mreadline\u001b[49m\u001b[43m(\u001b[49m\u001b[43m)\u001b[49m\n\u001b[1;32m   1184\u001b[0m     \u001b[38;5;28;01mif\u001b[39;00m \u001b[38;5;129;01mnot\u001b[39;00m line:\n\u001b[1;32m   1185\u001b[0m         \u001b[38;5;28;01mraise\u001b[39;00m \u001b[38;5;28mself\u001b[39m\u001b[38;5;241m.\u001b[39mabort(\u001b[38;5;124m'\u001b[39m\u001b[38;5;124msocket error: EOF\u001b[39m\u001b[38;5;124m'\u001b[39m)\n",
      "File \u001b[0;32m/usr/lib64/python3.9/imaplib.py:323\u001b[0m, in \u001b[0;36mIMAP4.readline\u001b[0;34m(self)\u001b[0m\n\u001b[1;32m    321\u001b[0m \u001b[38;5;28;01mdef\u001b[39;00m \u001b[38;5;21mreadline\u001b[39m(\u001b[38;5;28mself\u001b[39m):\n\u001b[1;32m    322\u001b[0m \u001b[38;5;250m    \u001b[39m\u001b[38;5;124;03m\"\"\"Read line from remote.\"\"\"\u001b[39;00m\n\u001b[0;32m--> 323\u001b[0m     line \u001b[38;5;241m=\u001b[39m \u001b[38;5;28;43mself\u001b[39;49m\u001b[38;5;241;43m.\u001b[39;49m\u001b[43mfile\u001b[49m\u001b[38;5;241;43m.\u001b[39;49m\u001b[43mreadline\u001b[49m\u001b[43m(\u001b[49m\u001b[43m_MAXLINE\u001b[49m\u001b[43m \u001b[49m\u001b[38;5;241;43m+\u001b[39;49m\u001b[43m \u001b[49m\u001b[38;5;241;43m1\u001b[39;49m\u001b[43m)\u001b[49m\n\u001b[1;32m    324\u001b[0m     \u001b[38;5;28;01mif\u001b[39;00m \u001b[38;5;28mlen\u001b[39m(line) \u001b[38;5;241m>\u001b[39m _MAXLINE:\n\u001b[1;32m    325\u001b[0m         \u001b[38;5;28;01mraise\u001b[39;00m \u001b[38;5;28mself\u001b[39m\u001b[38;5;241m.\u001b[39merror(\u001b[38;5;124m\"\u001b[39m\u001b[38;5;124mgot more than \u001b[39m\u001b[38;5;132;01m%d\u001b[39;00m\u001b[38;5;124m bytes\u001b[39m\u001b[38;5;124m\"\u001b[39m \u001b[38;5;241m%\u001b[39m _MAXLINE)\n",
      "File \u001b[0;32m/usr/lib64/python3.9/socket.py:704\u001b[0m, in \u001b[0;36mSocketIO.readinto\u001b[0;34m(self, b)\u001b[0m\n\u001b[1;32m    702\u001b[0m \u001b[38;5;28;01mwhile\u001b[39;00m \u001b[38;5;28;01mTrue\u001b[39;00m:\n\u001b[1;32m    703\u001b[0m     \u001b[38;5;28;01mtry\u001b[39;00m:\n\u001b[0;32m--> 704\u001b[0m         \u001b[38;5;28;01mreturn\u001b[39;00m \u001b[38;5;28;43mself\u001b[39;49m\u001b[38;5;241;43m.\u001b[39;49m\u001b[43m_sock\u001b[49m\u001b[38;5;241;43m.\u001b[39;49m\u001b[43mrecv_into\u001b[49m\u001b[43m(\u001b[49m\u001b[43mb\u001b[49m\u001b[43m)\u001b[49m\n\u001b[1;32m    705\u001b[0m     \u001b[38;5;28;01mexcept\u001b[39;00m timeout:\n\u001b[1;32m    706\u001b[0m         \u001b[38;5;28mself\u001b[39m\u001b[38;5;241m.\u001b[39m_timeout_occurred \u001b[38;5;241m=\u001b[39m \u001b[38;5;28;01mTrue\u001b[39;00m\n",
      "File \u001b[0;32m/usr/lib64/python3.9/ssl.py:1242\u001b[0m, in \u001b[0;36mSSLSocket.recv_into\u001b[0;34m(self, buffer, nbytes, flags)\u001b[0m\n\u001b[1;32m   1238\u001b[0m     \u001b[38;5;28;01mif\u001b[39;00m flags \u001b[38;5;241m!=\u001b[39m \u001b[38;5;241m0\u001b[39m:\n\u001b[1;32m   1239\u001b[0m         \u001b[38;5;28;01mraise\u001b[39;00m \u001b[38;5;167;01mValueError\u001b[39;00m(\n\u001b[1;32m   1240\u001b[0m           \u001b[38;5;124m\"\u001b[39m\u001b[38;5;124mnon-zero flags not allowed in calls to recv_into() on \u001b[39m\u001b[38;5;132;01m%s\u001b[39;00m\u001b[38;5;124m\"\u001b[39m \u001b[38;5;241m%\u001b[39m\n\u001b[1;32m   1241\u001b[0m           \u001b[38;5;28mself\u001b[39m\u001b[38;5;241m.\u001b[39m\u001b[38;5;18m__class__\u001b[39m)\n\u001b[0;32m-> 1242\u001b[0m     \u001b[38;5;28;01mreturn\u001b[39;00m \u001b[38;5;28;43mself\u001b[39;49m\u001b[38;5;241;43m.\u001b[39;49m\u001b[43mread\u001b[49m\u001b[43m(\u001b[49m\u001b[43mnbytes\u001b[49m\u001b[43m,\u001b[49m\u001b[43m \u001b[49m\u001b[43mbuffer\u001b[49m\u001b[43m)\u001b[49m\n\u001b[1;32m   1243\u001b[0m \u001b[38;5;28;01melse\u001b[39;00m:\n\u001b[1;32m   1244\u001b[0m     \u001b[38;5;28;01mreturn\u001b[39;00m \u001b[38;5;28msuper\u001b[39m()\u001b[38;5;241m.\u001b[39mrecv_into(buffer, nbytes, flags)\n",
      "File \u001b[0;32m/usr/lib64/python3.9/ssl.py:1100\u001b[0m, in \u001b[0;36mSSLSocket.read\u001b[0;34m(self, len, buffer)\u001b[0m\n\u001b[1;32m   1098\u001b[0m \u001b[38;5;28;01mtry\u001b[39;00m:\n\u001b[1;32m   1099\u001b[0m     \u001b[38;5;28;01mif\u001b[39;00m buffer \u001b[38;5;129;01mis\u001b[39;00m \u001b[38;5;129;01mnot\u001b[39;00m \u001b[38;5;28;01mNone\u001b[39;00m:\n\u001b[0;32m-> 1100\u001b[0m         \u001b[38;5;28;01mreturn\u001b[39;00m \u001b[38;5;28;43mself\u001b[39;49m\u001b[38;5;241;43m.\u001b[39;49m\u001b[43m_sslobj\u001b[49m\u001b[38;5;241;43m.\u001b[39;49m\u001b[43mread\u001b[49m\u001b[43m(\u001b[49m\u001b[38;5;28;43mlen\u001b[39;49m\u001b[43m,\u001b[49m\u001b[43m \u001b[49m\u001b[43mbuffer\u001b[49m\u001b[43m)\u001b[49m\n\u001b[1;32m   1101\u001b[0m     \u001b[38;5;28;01melse\u001b[39;00m:\n\u001b[1;32m   1102\u001b[0m         \u001b[38;5;28;01mreturn\u001b[39;00m \u001b[38;5;28mself\u001b[39m\u001b[38;5;241m.\u001b[39m_sslobj\u001b[38;5;241m.\u001b[39mread(\u001b[38;5;28mlen\u001b[39m)\n",
      "\u001b[0;31mKeyboardInterrupt\u001b[0m: "
     ]
    }
   ],
   "source": [
    "import imaplib\n",
    "import email\n",
    "from email.header import decode_header\n",
    "list_of_time = []\n",
    "username = \"kiosk@nandeeshsb.online\"\n",
    "password = 'Nlogin@123'\n",
    "imap_host = 'imap.hostinger.com'\n",
    "while(True):\n",
    "    imap = imaplib.IMAP4_SSL(imap_host)\n",
    "    imap.login(username, password)\n",
    "    status, messages = imap.select(\"Inbox\")\n",
    "    messages = int(messages[0])\n",
    "    res, msg = imap.fetch(str(messages), \"(RFC822)\")\n",
    "    \n",
    "    for response in msg:\n",
    "        if isinstance(response,tuple):\n",
    "            mymsg = email.message_from_bytes(response[1])\n",
    "            date = decode_header(mymsg[\"Date\"])[0][0]\n",
    "            if date in list_of_time:\n",
    "                continue\n",
    "            if len(list_of_time) > 10:\n",
    "                list_of_time.pop(0)\n",
    "            list_of_time.append(date)\n",
    "            subject = decode_header(mymsg[\"Subject\"])[0][0]\n",
    "            mail_from = decode_header(mymsg[\"From\"])[0][0]\n",
    "            print(date,subject,mail_from)"
   ]
  },
  {
   "cell_type": "code",
   "execution_count": 2,
   "id": "dc26a99b-6e02-4b62-b84d-813a7169ec9f",
   "metadata": {},
   "outputs": [
    {
     "name": "stdout",
     "output_type": "stream",
     "text": [
      "Today's date: <class 'datetime.date'>\n"
     ]
    }
   ],
   "source": [
    "from datetime import date\n",
    "\n",
    "today = date.today()\n",
    "print(\"Today's date:\", type(today))"
   ]
  },
  {
   "cell_type": "code",
   "execution_count": 3,
   "id": "bab2c3f3-ab0c-4b6e-b68c-37776ac938fa",
   "metadata": {},
   "outputs": [
    {
     "name": "stdout",
     "output_type": "stream",
     "text": [
      "<class 'datetime.date'>\n",
      "2022-09-19\n"
     ]
    }
   ],
   "source": [
    "from datetime import datetime\n",
    "\n",
    "date_str = '09-19-2022'\n",
    "\n",
    "date_object = datetime.strptime(date_str, '%m-%d-%Y').date()\n",
    "print(type(date_object))\n",
    "print(date_object)  # printed in default format"
   ]
  },
  {
   "cell_type": "code",
   "execution_count": 5,
   "id": "26e50477-c5b6-4336-b3c9-b0688c43c810",
   "metadata": {},
   "outputs": [
    {
     "name": "stdout",
     "output_type": "stream",
     "text": [
      "{\"name\": \"John\", \"age\": 30, \"city\": \"New York\"}\n"
     ]
    },
    {
     "data": {
      "text/plain": [
       "str"
      ]
     },
     "execution_count": 5,
     "metadata": {},
     "output_type": "execute_result"
    }
   ],
   "source": [
    "import json\n",
    "\n",
    "# a Python object (dict):\n",
    "x = {\n",
    "  \"name\": \"John\",\n",
    "  \"age\": 30,\n",
    "  \"city\": \"New York\"\n",
    "}\n",
    "\n",
    "# convert into JSON:\n",
    "y = json.dumps(x)\n",
    "\n",
    "# the result is a JSON string:\n",
    "print(y)\n",
    "type(y)"
   ]
  },
  {
   "cell_type": "code",
   "execution_count": 6,
   "id": "8ed7c6d1-eba0-4f45-b61a-b1317fe5eeee",
   "metadata": {},
   "outputs": [
    {
     "name": "stdout",
     "output_type": "stream",
     "text": [
      "<class 'str'>\n",
      "<class 'dict'>\n"
     ]
    }
   ],
   "source": [
    "#include json library\n",
    "import json\n",
    "\n",
    "#json string data\n",
    "employee_string = '{\"first_name\": \"Michael\", \"last_name\": \"Rodgers\", \"department\": \"Marketing\"}'\n",
    "\n",
    "#check data type with type() method\n",
    "print(type(employee_string))\n",
    "\n",
    "#convert string to  object\n",
    "json_object = json.loads(employee_string)\n",
    "\n",
    "#check new data type\n",
    "print(type(json_object))\n",
    "\n",
    "#output\n",
    "#<class 'dict'>\n"
   ]
  },
  {
   "cell_type": "code",
   "execution_count": 7,
   "id": "92a04bd4-d8d5-46ec-bb2d-cc3ef2d733ff",
   "metadata": {},
   "outputs": [],
   "source": [
    "mystr = \"{'content_type': 'text', 'id': 3451, 'message_id': 3451, 'from_user': {'id': 2058010923, 'is_bot': False, 'first_name': 'Nandeesh', 'username': None, 'last_name': None, 'language_code': 'en', 'can_join_groups': None, 'can_read_all_group_messages': None, 'supports_inline_queries': None, 'is_premium': None, 'added_to_attachment_menu': None}, 'date': 1695020825, 'chat': {'id': 2058010923, 'type': 'private', 'title': None, 'username': None, 'first_name': 'Nandeesh', 'last_name': None, 'is_forum': None, 'photo': None, 'bio': None, 'join_to_send_messages': None, 'join_by_request': None, 'has_private_forwards': None, 'has_restricted_voice_and_video_messages': None, 'description': None, 'invite_link': None, 'pinned_message': None, 'permissions': None, 'slow_mode_delay': None, 'message_auto_delete_time': None, 'has_protected_content': None, 'sticker_set_name': None, 'can_set_sticker_set': None, 'linked_chat_id': None, 'location': None, 'active_usernames': None, 'emoji_status_custom_emoji_id': None, 'has_hidden_members': None, 'has_aggressive_anti_spam_enabled': None}, 'sender_chat': None, 'forward_from': None, 'forward_from_chat': None, 'forward_from_message_id': None, 'forward_signature': None, 'forward_sender_name': None, 'forward_date': None, 'is_automatic_forward': None, 'reply_to_message': None, 'via_bot': None, 'edit_date': None, 'has_protected_content': None, 'media_group_id': None, 'author_signature': None, 'text': 'History', 'entities': None, 'caption_entities': None, 'audio': None, 'document': None, 'photo': None, 'sticker': None, 'video': None, 'video_note': None, 'voice': None, 'caption': None, 'contact': None, 'location': None, 'venue': None, 'animation': None, 'dice': None, 'new_chat_member': None, 'new_chat_members': None, 'left_chat_member': None, 'new_chat_title': None, 'new_chat_photo': None, 'delete_chat_photo': None, 'group_chat_created': None, 'supergroup_chat_created': None, 'channel_chat_created': None, 'migrate_to_chat_id': None, 'migrate_from_chat_id': None, 'pinned_message': None, 'invoice': None, 'successful_payment': None, 'connected_website': None, 'reply_markup': None, 'message_thread_id': None, 'is_topic_message': None, 'forum_topic_created': None, 'forum_topic_closed': None, 'forum_topic_reopened': None, 'has_media_spoiler': None, 'forum_topic_edited': None, 'general_forum_topic_hidden': None, 'general_forum_topic_unhidden': None, 'write_access_allowed': None, 'user_shared': None, 'chat_shared': None, 'json': {'message_id': 3451, 'from': {'id': 2058010923, 'is_bot': False, 'first_name': 'Nandeesh', 'language_code': 'en'}, 'chat': {'id': 2058010923, 'first_name': 'Nandeesh', 'type': 'private'}, 'date': 1695020825, 'text': 'History'}}\""
   ]
  },
  {
   "cell_type": "code",
   "execution_count": 8,
   "id": "9a52242c-3459-473d-bc00-a31d90ab18dc",
   "metadata": {},
   "outputs": [
    {
     "data": {
      "text/plain": [
       "\"{'content_type': 'text', 'id': 3451, 'message_id': 3451, 'from_user': {'id': 2058010923, 'is_bot': False, 'first_name': 'Nandeesh', 'username': None, 'last_name': None, 'language_code': 'en', 'can_join_groups': None, 'can_read_all_group_messages': None, 'supports_inline_queries': None, 'is_premium': None, 'added_to_attachment_menu': None}, 'date': 1695020825, 'chat': {'id': 2058010923, 'type': 'private', 'title': None, 'username': None, 'first_name': 'Nandeesh', 'last_name': None, 'is_forum': None, 'photo': None, 'bio': None, 'join_to_send_messages': None, 'join_by_request': None, 'has_private_forwards': None, 'has_restricted_voice_and_video_messages': None, 'description': None, 'invite_link': None, 'pinned_message': None, 'permissions': None, 'slow_mode_delay': None, 'message_auto_delete_time': None, 'has_protected_content': None, 'sticker_set_name': None, 'can_set_sticker_set': None, 'linked_chat_id': None, 'location': None, 'active_usernames': None, 'emoji_status_custom_emoji_id': None, 'has_hidden_members': None, 'has_aggressive_anti_spam_enabled': None}, 'sender_chat': None, 'forward_from': None, 'forward_from_chat': None, 'forward_from_message_id': None, 'forward_signature': None, 'forward_sender_name': None, 'forward_date': None, 'is_automatic_forward': None, 'reply_to_message': None, 'via_bot': None, 'edit_date': None, 'has_protected_content': None, 'media_group_id': None, 'author_signature': None, 'text': 'History', 'entities': None, 'caption_entities': None, 'audio': None, 'document': None, 'photo': None, 'sticker': None, 'video': None, 'video_note': None, 'voice': None, 'caption': None, 'contact': None, 'location': None, 'venue': None, 'animation': None, 'dice': None, 'new_chat_member': None, 'new_chat_members': None, 'left_chat_member': None, 'new_chat_title': None, 'new_chat_photo': None, 'delete_chat_photo': None, 'group_chat_created': None, 'supergroup_chat_created': None, 'channel_chat_created': None, 'migrate_to_chat_id': None, 'migrate_from_chat_id': None, 'pinned_message': None, 'invoice': None, 'successful_payment': None, 'connected_website': None, 'reply_markup': None, 'message_thread_id': None, 'is_topic_message': None, 'forum_topic_created': None, 'forum_topic_closed': None, 'forum_topic_reopened': None, 'has_media_spoiler': None, 'forum_topic_edited': None, 'general_forum_topic_hidden': None, 'general_forum_topic_unhidden': None, 'write_access_allowed': None, 'user_shared': None, 'chat_shared': None, 'json': {'message_id': 3451, 'from': {'id': 2058010923, 'is_bot': False, 'first_name': 'Nandeesh', 'language_code': 'en'}, 'chat': {'id': 2058010923, 'first_name': 'Nandeesh', 'type': 'private'}, 'date': 1695020825, 'text': 'History'}}\""
      ]
     },
     "execution_count": 8,
     "metadata": {},
     "output_type": "execute_result"
    }
   ],
   "source": [
    "mystr\n"
   ]
  },
  {
   "cell_type": "code",
   "execution_count": 9,
   "id": "7af3611f-1c66-4cfb-9eb9-580faf485b02",
   "metadata": {},
   "outputs": [
    {
     "data": {
      "text/plain": [
       "[\"{'content_type'\",\n",
       " \" 'text', 'id'\",\n",
       " \" 3451, 'message_id'\",\n",
       " \" 3451, 'from_user'\",\n",
       " \" {'id'\",\n",
       " \" 2058010923, 'is_bot'\",\n",
       " \" False, 'first_name'\",\n",
       " \" 'Nandeesh', 'username'\",\n",
       " \" None, 'last_name'\",\n",
       " \" None, 'language_code'\",\n",
       " \" 'en', 'can_join_groups'\",\n",
       " \" None, 'can_read_all_group_messages'\",\n",
       " \" None, 'supports_inline_queries'\",\n",
       " \" None, 'is_premium'\",\n",
       " \" None, 'added_to_attachment_menu'\",\n",
       " \" None}, 'date'\",\n",
       " \" 1695020825, 'chat'\",\n",
       " \" {'id'\",\n",
       " \" 2058010923, 'type'\",\n",
       " \" 'private', 'title'\",\n",
       " \" None, 'username'\",\n",
       " \" None, 'first_name'\",\n",
       " \" 'Nandeesh', 'last_name'\",\n",
       " \" None, 'is_forum'\",\n",
       " \" None, 'photo'\",\n",
       " \" None, 'bio'\",\n",
       " \" None, 'join_to_send_messages'\",\n",
       " \" None, 'join_by_request'\",\n",
       " \" None, 'has_private_forwards'\",\n",
       " \" None, 'has_restricted_voice_and_video_messages'\",\n",
       " \" None, 'description'\",\n",
       " \" None, 'invite_link'\",\n",
       " \" None, 'pinned_message'\",\n",
       " \" None, 'permissions'\",\n",
       " \" None, 'slow_mode_delay'\",\n",
       " \" None, 'message_auto_delete_time'\",\n",
       " \" None, 'has_protected_content'\",\n",
       " \" None, 'sticker_set_name'\",\n",
       " \" None, 'can_set_sticker_set'\",\n",
       " \" None, 'linked_chat_id'\",\n",
       " \" None, 'location'\",\n",
       " \" None, 'active_usernames'\",\n",
       " \" None, 'emoji_status_custom_emoji_id'\",\n",
       " \" None, 'has_hidden_members'\",\n",
       " \" None, 'has_aggressive_anti_spam_enabled'\",\n",
       " \" None}, 'sender_chat'\",\n",
       " \" None, 'forward_from'\",\n",
       " \" None, 'forward_from_chat'\",\n",
       " \" None, 'forward_from_message_id'\",\n",
       " \" None, 'forward_signature'\",\n",
       " \" None, 'forward_sender_name'\",\n",
       " \" None, 'forward_date'\",\n",
       " \" None, 'is_automatic_forward'\",\n",
       " \" None, 'reply_to_message'\",\n",
       " \" None, 'via_bot'\",\n",
       " \" None, 'edit_date'\",\n",
       " \" None, 'has_protected_content'\",\n",
       " \" None, 'media_group_id'\",\n",
       " \" None, 'author_signature'\",\n",
       " \" None, 'text'\",\n",
       " \" 'History', 'entities'\",\n",
       " \" None, 'caption_entities'\",\n",
       " \" None, 'audio'\",\n",
       " \" None, 'document'\",\n",
       " \" None, 'photo'\",\n",
       " \" None, 'sticker'\",\n",
       " \" None, 'video'\",\n",
       " \" None, 'video_note'\",\n",
       " \" None, 'voice'\",\n",
       " \" None, 'caption'\",\n",
       " \" None, 'contact'\",\n",
       " \" None, 'location'\",\n",
       " \" None, 'venue'\",\n",
       " \" None, 'animation'\",\n",
       " \" None, 'dice'\",\n",
       " \" None, 'new_chat_member'\",\n",
       " \" None, 'new_chat_members'\",\n",
       " \" None, 'left_chat_member'\",\n",
       " \" None, 'new_chat_title'\",\n",
       " \" None, 'new_chat_photo'\",\n",
       " \" None, 'delete_chat_photo'\",\n",
       " \" None, 'group_chat_created'\",\n",
       " \" None, 'supergroup_chat_created'\",\n",
       " \" None, 'channel_chat_created'\",\n",
       " \" None, 'migrate_to_chat_id'\",\n",
       " \" None, 'migrate_from_chat_id'\",\n",
       " \" None, 'pinned_message'\",\n",
       " \" None, 'invoice'\",\n",
       " \" None, 'successful_payment'\",\n",
       " \" None, 'connected_website'\",\n",
       " \" None, 'reply_markup'\",\n",
       " \" None, 'message_thread_id'\",\n",
       " \" None, 'is_topic_message'\",\n",
       " \" None, 'forum_topic_created'\",\n",
       " \" None, 'forum_topic_closed'\",\n",
       " \" None, 'forum_topic_reopened'\",\n",
       " \" None, 'has_media_spoiler'\",\n",
       " \" None, 'forum_topic_edited'\",\n",
       " \" None, 'general_forum_topic_hidden'\",\n",
       " \" None, 'general_forum_topic_unhidden'\",\n",
       " \" None, 'write_access_allowed'\",\n",
       " \" None, 'user_shared'\",\n",
       " \" None, 'chat_shared'\",\n",
       " \" None, 'json'\",\n",
       " \" {'message_id'\",\n",
       " \" 3451, 'from'\",\n",
       " \" {'id'\",\n",
       " \" 2058010923, 'is_bot'\",\n",
       " \" False, 'first_name'\",\n",
       " \" 'Nandeesh', 'language_code'\",\n",
       " \" 'en'}, 'chat'\",\n",
       " \" {'id'\",\n",
       " \" 2058010923, 'first_name'\",\n",
       " \" 'Nandeesh', 'type'\",\n",
       " \" 'private'}, 'date'\",\n",
       " \" 1695020825, 'text'\",\n",
       " \" 'History'}}\"]"
      ]
     },
     "execution_count": 9,
     "metadata": {},
     "output_type": "execute_result"
    }
   ],
   "source": [
    "mystr.split(':')"
   ]
  },
  {
   "cell_type": "code",
   "execution_count": 10,
   "id": "b5ee1240-1b58-4829-ad1f-b4d2f7cf4025",
   "metadata": {},
   "outputs": [
    {
     "data": {
      "text/plain": [
       "\" 'History'}}\""
      ]
     },
     "execution_count": 10,
     "metadata": {},
     "output_type": "execute_result"
    }
   ],
   "source": [
    "mystr.split(':')[-1]"
   ]
  },
  {
   "cell_type": "code",
   "execution_count": 13,
   "id": "be95f151-b64a-4231-9b9a-cb32b79c71d2",
   "metadata": {},
   "outputs": [
    {
     "data": {
      "text/plain": [
       "'History'"
      ]
     },
     "execution_count": 13,
     "metadata": {},
     "output_type": "execute_result"
    }
   ],
   "source": [
    "mystr.split(':')[-1][2:-3]"
   ]
  },
  {
   "cell_type": "code",
   "execution_count": 14,
   "id": "c1b144c7-b184-4da4-a029-927746f64843",
   "metadata": {},
   "outputs": [
    {
     "name": "stdout",
     "output_type": "stream",
     "text": [
      "History\n"
     ]
    }
   ],
   "source": [
    "print(mystr.split(':')[-1][2:-3])"
   ]
  },
  {
   "cell_type": "code",
   "execution_count": null,
   "id": "9f0208fa-6dbd-4428-a39a-a0c1dc4d3f76",
   "metadata": {},
   "outputs": [],
   "source": []
  }
 ],
 "metadata": {
  "kernelspec": {
   "display_name": "Python 3 (ipykernel)",
   "language": "python",
   "name": "python3"
  },
  "language_info": {
   "codemirror_mode": {
    "name": "ipython",
    "version": 3
   },
   "file_extension": ".py",
   "mimetype": "text/x-python",
   "name": "python",
   "nbconvert_exporter": "python",
   "pygments_lexer": "ipython3",
   "version": "3.9.16"
  }
 },
 "nbformat": 4,
 "nbformat_minor": 5
}

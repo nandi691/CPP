{
 "cells": [
  {
   "cell_type": "code",
   "execution_count": 1,
   "id": "9092cb5a-6510-48c9-8049-970ec2c248ef",
   "metadata": {},
   "outputs": [],
   "source": [
    "from nsepy import get_history\n",
    "from datetime import date"
   ]
  },
  {
   "cell_type": "code",
   "execution_count": null,
   "id": "e061276d-0136-4e1f-b1f5-23aafa76c915",
   "metadata": {},
   "outputs": [],
   "source": []
  },
  {
   "cell_type": "code",
   "execution_count": 2,
   "id": "ce45b14c-f9fd-4f45-aa12-2ed403a79b5b",
   "metadata": {},
   "outputs": [
    {
     "data": {
      "text/plain": [
       "datetime.date(2023, 8, 27)"
      ]
     },
     "execution_count": 2,
     "metadata": {},
     "output_type": "execute_result"
    }
   ],
   "source": [
    "start_date = date(2023,5,1)\n",
    "end_date = date.today()\n",
    "end_date\n",
    "#stock_data = get_history(symbol=\"SBIN\",start=start_date,end=end_date)"
   ]
  },
  {
   "cell_type": "code",
   "execution_count": 1,
   "id": "8492cd7c-f5c6-44cc-82da-786279c6979c",
   "metadata": {},
   "outputs": [],
   "source": [
    "import sys\n",
    "sys.path.insert(0,\"/home/nksys/python_packages\")\n",
    "from nsetools import Nse"
   ]
  },
  {
   "cell_type": "code",
   "execution_count": 2,
   "id": "7e582f7c-8821-4e14-8d6e-8f4a0d4f228a",
   "metadata": {},
   "outputs": [
    {
     "name": "stdout",
     "output_type": "stream",
     "text": [
      "Driver Class for National Stock Exchange (NSE)\n"
     ]
    }
   ],
   "source": [
    "nse = Nse()\n",
    "print(nse)"
   ]
  },
  {
   "cell_type": "code",
   "execution_count": 3,
   "id": "d2fa4729-d1d5-4340-81d1-9178ccc75b16",
   "metadata": {},
   "outputs": [
    {
     "name": "stdout",
     "output_type": "stream",
     "text": [
      "time diff is  1\n"
     ]
    },
    {
     "data": {
      "text/plain": [
       "{'lastPrice': 1416.55,\n",
       " 'change': -7.0499999999999545,\n",
       " 'pChange': -0.49522337735318595,\n",
       " 'previousClose': 1423.6,\n",
       " 'open': 1413,\n",
       " 'close': 1420.1,\n",
       " 'vwap': 1417.89,\n",
       " 'lowerCP': '1281.25',\n",
       " 'upperCP': '1565.95',\n",
       " 'pPriceBand': 'No Band',\n",
       " 'basePrice': 1423.6,\n",
       " 'intraDayHighLow': {'min': 1411.4, 'max': 1422.5, 'value': 1416.55},\n",
       " 'weekHighLow': {'min': 1185.3,\n",
       "  'minDate': '17-Apr-2023',\n",
       "  'max': 1672.6,\n",
       "  'maxDate': '01-Dec-2022',\n",
       "  'value': 1416.55},\n",
       " 'iNavValue': None,\n",
       " 'checkINAV': False}"
      ]
     },
     "execution_count": 3,
     "metadata": {},
     "output_type": "execute_result"
    }
   ],
   "source": [
    "q = nse.get_quote('infy')\n",
    "q"
   ]
  },
  {
   "cell_type": "code",
   "execution_count": 4,
   "id": "942d5528-cba5-4c64-a59d-04bc283d478e",
   "metadata": {},
   "outputs": [
    {
     "ename": "AttributeError",
     "evalue": "'Nse' object has no attribute 'opener'",
     "output_type": "error",
     "traceback": [
      "\u001b[0;31m---------------------------------------------------------------------------\u001b[0m",
      "\u001b[0;31mAttributeError\u001b[0m                            Traceback (most recent call last)",
      "Cell \u001b[0;32mIn[4], line 1\u001b[0m\n\u001b[0;32m----> 1\u001b[0m \u001b[43mnse\u001b[49m\u001b[38;5;241;43m.\u001b[39;49m\u001b[43mget_stock_codes\u001b[49m\u001b[43m(\u001b[49m\u001b[43m)\u001b[49m\n",
      "File \u001b[0;32m~/python_packages/nsetools/nse.py:110\u001b[0m, in \u001b[0;36mNse.get_stock_codes\u001b[0;34m(self, cached, as_json)\u001b[0m\n\u001b[1;32m    107\u001b[0m res_dict \u001b[38;5;241m=\u001b[39m {}\n\u001b[1;32m    108\u001b[0m \u001b[38;5;28;01mif\u001b[39;00m cached \u001b[38;5;129;01mis\u001b[39;00m \u001b[38;5;129;01mnot\u001b[39;00m \u001b[38;5;28;01mTrue\u001b[39;00m \u001b[38;5;129;01mor\u001b[39;00m \u001b[38;5;28mself\u001b[39m\u001b[38;5;241m.\u001b[39m__CODECACHE__ \u001b[38;5;129;01mis\u001b[39;00m \u001b[38;5;28;01mNone\u001b[39;00m:\n\u001b[1;32m    109\u001b[0m     \u001b[38;5;66;03m# raises HTTPError and URLError\u001b[39;00m\n\u001b[0;32m--> 110\u001b[0m     res \u001b[38;5;241m=\u001b[39m \u001b[38;5;28;43mself\u001b[39;49m\u001b[38;5;241;43m.\u001b[39;49m\u001b[43mopener\u001b[49m\u001b[38;5;241m.\u001b[39mopen(req)\n\u001b[1;32m    111\u001b[0m     \u001b[38;5;28;01mif\u001b[39;00m res \u001b[38;5;129;01mis\u001b[39;00m \u001b[38;5;129;01mnot\u001b[39;00m \u001b[38;5;28;01mNone\u001b[39;00m:\n\u001b[1;32m    112\u001b[0m         \u001b[38;5;66;03m# for py3 compat covert byte file like object to\u001b[39;00m\n\u001b[1;32m    113\u001b[0m         \u001b[38;5;66;03m# string file like object\u001b[39;00m\n\u001b[1;32m    114\u001b[0m         res \u001b[38;5;241m=\u001b[39m byte_adaptor(res)\n",
      "\u001b[0;31mAttributeError\u001b[0m: 'Nse' object has no attribute 'opener'"
     ]
    }
   ],
   "source": [
    "nse.get_stock_codes()"
   ]
  },
  {
   "cell_type": "code",
   "execution_count": null,
   "id": "6ccb30da-0d2b-43c2-84b4-b04fc159f748",
   "metadata": {},
   "outputs": [],
   "source": []
  }
 ],
 "metadata": {
  "kernelspec": {
   "display_name": "Python 3 (ipykernel)",
   "language": "python",
   "name": "python3"
  },
  "language_info": {
   "codemirror_mode": {
    "name": "ipython",
    "version": 3
   },
   "file_extension": ".py",
   "mimetype": "text/x-python",
   "name": "python",
   "nbconvert_exporter": "python",
   "pygments_lexer": "ipython3",
   "version": "3.9.16"
  }
 },
 "nbformat": 4,
 "nbformat_minor": 5
}

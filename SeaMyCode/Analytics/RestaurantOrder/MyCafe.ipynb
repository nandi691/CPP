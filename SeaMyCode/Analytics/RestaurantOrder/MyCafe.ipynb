{
 "cells": [
  {
   "cell_type": "code",
   "execution_count": 2,
   "id": "567db368-d24f-400f-86e0-3dd957bf6674",
   "metadata": {},
   "outputs": [
    {
     "name": "stdout",
     "output_type": "stream",
     "text": [
      "All the very best nandeesh\n",
      "Best of all luck for your Data Analytics\n"
     ]
    }
   ],
   "source": [
    "# Om Namaha Shivaya\n",
    "print(\"All the very best nandeesh\")\n",
    "\n",
    "def RestaurantMain():\n",
    "    print(\"Best of all luck for your Data Analytics\")\n",
    "RestaurantMain()"
   ]
  },
  {
   "cell_type": "code",
   "execution_count": 1,
   "id": "411f259d-e2b1-4a68-8385-ee4d8ab44f34",
   "metadata": {},
   "outputs": [],
   "source": [
    "from PyQt6.QtWidgets import QApplication, QWidget, QPushButton\n",
    "from PyQt6.QtCore import Qt\n",
    "import sys\n",
    " \n",
    " \n",
    "class Window(QWidget):\n",
    "    def __init__(self):\n",
    "        super().__init__()\n",
    "        self.resize(250, 250)\n",
    "        self.setWindowTitle(\"CodersLegacy\")\n",
    " \n",
    "        button = QPushButton(\"Hello World\", self)\n",
    "        button.move(100, 100)\n",
    " \n",
    " \n",
    "app = QApplication(sys.argv)\n",
    "window = Window()\n",
    "window.show()\n",
    "#app.exec()\n",
    "#sys.exit(app.exec())"
   ]
  },
  {
   "cell_type": "code",
   "execution_count": null,
   "id": "3dfe4574-067e-4a4b-bd2d-9b8bccb922d0",
   "metadata": {},
   "outputs": [],
   "source": []
  }
 ],
 "metadata": {
  "kernelspec": {
   "display_name": "Python 3 (ipykernel)",
   "language": "python",
   "name": "python3"
  },
  "language_info": {
   "codemirror_mode": {
    "name": "ipython",
    "version": 3
   },
   "file_extension": ".py",
   "mimetype": "text/x-python",
   "name": "python",
   "nbconvert_exporter": "python",
   "pygments_lexer": "ipython3",
   "version": "3.9.16"
  }
 },
 "nbformat": 4,
 "nbformat_minor": 5
}

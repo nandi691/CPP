{
 "cells": [
  {
   "cell_type": "code",
   "execution_count": 2,
   "id": "567db368-d24f-400f-86e0-3dd957bf6674",
   "metadata": {},
   "outputs": [
    {
     "name": "stdout",
     "output_type": "stream",
     "text": [
      "All the very best nandeesh\n",
      "Best of all luck for your Data Analytics\n"
     ]
    }
   ],
   "source": [
    "# Om Namaha Shivaya\n",
    "print(\"All the very best nandeesh\")\n",
    "\n",
    "def RestaurantMain():\n",
    "    print(\"Best of all luck for your Data Analytics\")\n",
    "RestaurantMain()"
   ]
  },
  {
   "cell_type": "code",
   "execution_count": 4,
   "id": "411f259d-e2b1-4a68-8385-ee4d8ab44f34",
   "metadata": {},
   "outputs": [
    {
     "ename": "AttributeError",
     "evalue": "module 'PyQt6.QtGui' has no attribute 'QWidget'",
     "output_type": "error",
     "traceback": [
      "\u001b[0;31m---------------------------------------------------------------------------\u001b[0m",
      "\u001b[0;31mAttributeError\u001b[0m                            Traceback (most recent call last)",
      "Cell \u001b[0;32mIn[4], line 15\u001b[0m\n\u001b[1;32m      2\u001b[0m \u001b[38;5;124;03m\"\"\"Simple Qt4 example to manually test event loop integration.\u001b[39;00m\n\u001b[1;32m      3\u001b[0m \n\u001b[1;32m      4\u001b[0m \u001b[38;5;124;03mThis is meant to run tests manually in ipython as:\u001b[39;00m\n\u001b[0;32m   (...)\u001b[0m\n\u001b[1;32m     10\u001b[0m \u001b[38;5;124;03mRef: Modified from http://zetcode.com/tutorials/pyqt4/firstprograms/\u001b[39;00m\n\u001b[1;32m     11\u001b[0m \u001b[38;5;124;03m\"\"\"\u001b[39;00m\n\u001b[1;32m     13\u001b[0m \u001b[38;5;28;01mfrom\u001b[39;00m \u001b[38;5;21;01mPyQt6\u001b[39;00m \u001b[38;5;28;01mimport\u001b[39;00m QtGui, QtCore\n\u001b[0;32m---> 15\u001b[0m \u001b[38;5;28;01mclass\u001b[39;00m \u001b[38;5;21;01mSimpleWindow\u001b[39;00m(\u001b[43mQtGui\u001b[49m\u001b[38;5;241;43m.\u001b[39;49m\u001b[43mQWidget\u001b[49m):\n\u001b[1;32m     16\u001b[0m     \u001b[38;5;28;01mdef\u001b[39;00m \u001b[38;5;21m__init__\u001b[39m(\u001b[38;5;28mself\u001b[39m, parent\u001b[38;5;241m=\u001b[39m\u001b[38;5;28;01mNone\u001b[39;00m):\n\u001b[1;32m     17\u001b[0m         QtGui\u001b[38;5;241m.\u001b[39mQWidget\u001b[38;5;241m.\u001b[39m\u001b[38;5;21m__init__\u001b[39m(\u001b[38;5;28mself\u001b[39m, parent)\n",
      "\u001b[0;31mAttributeError\u001b[0m: module 'PyQt6.QtGui' has no attribute 'QWidget'"
     ]
    }
   ],
   "source": [
    "#!/usr/bin/env python\n",
    "\"\"\"Simple Qt4 example to manually test event loop integration.\n",
    "\n",
    "This is meant to run tests manually in ipython as:\n",
    "\n",
    "In [5]: %gui qt\n",
    "\n",
    "In [6]: %run gui-qt.py\n",
    "\n",
    "Ref: Modified from http://zetcode.com/tutorials/pyqt4/firstprograms/\n",
    "\"\"\"\n",
    "\n",
    "from PyQt6. import QtGui, QtCore\n",
    "\n",
    "class SimpleWindow(QtGui.QWidget):\n",
    "    def __init__(self, parent=None):\n",
    "        QtGui.QWidget.__init__(self, parent)\n",
    "\n",
    "        self.setGeometry(300, 300, 200, 80)\n",
    "        self.setWindowTitle('Hello World')\n",
    "\n",
    "        quit = QtGui.QPushButton('Close', self)\n",
    "        quit.setGeometry(10, 10, 60, 35)\n",
    "\n",
    "        self.connect(quit, QtCore.SIGNAL('clicked()'),\n",
    "                     self, QtCore.SLOT('close()'))\n",
    "\n",
    "if __name__ == '__main__':\n",
    "    app = QtCore.QCoreApplication.instance()\n",
    "    if app is None:\n",
    "        app = QtGui.QApplication([])\n",
    "\n",
    "    sw = SimpleWindow()\n",
    "    sw.show()\n",
    "\n",
    "    try:\n",
    "        from IPython.lib.guisupport import start_event_loop_qt6\n",
    "        start_event_loop_qt6(app)\n",
    "    except ImportError:\n",
    "        app.exec_()"
   ]
  },
  {
   "cell_type": "code",
   "execution_count": null,
   "id": "3dfe4574-067e-4a4b-bd2d-9b8bccb922d0",
   "metadata": {},
   "outputs": [],
   "source": []
  }
 ],
 "metadata": {
  "kernelspec": {
   "display_name": "Python 3 (ipykernel)",
   "language": "python",
   "name": "python3"
  },
  "language_info": {
   "codemirror_mode": {
    "name": "ipython",
    "version": 3
   },
   "file_extension": ".py",
   "mimetype": "text/x-python",
   "name": "python",
   "nbconvert_exporter": "python",
   "pygments_lexer": "ipython3",
   "version": "3.9.16"
  }
 },
 "nbformat": 4,
 "nbformat_minor": 5
}
